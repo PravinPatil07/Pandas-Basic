{
 "cells": [
  {
   "cell_type": "markdown",
   "metadata": {},
   "source": [
    "# Pandas"
   ]
  },
  {
   "cell_type": "markdown",
   "metadata": {},
   "source": [
    "### DataStructure\n"
   ]
  },
  {
   "cell_type": "code",
   "execution_count": 2,
   "metadata": {},
   "outputs": [
    {
     "name": "stdout",
     "output_type": "stream",
     "text": [
      "Name               [John, Anna, Peter, Linda]\n",
      "Location    [New York, Paris, Berlin, London]\n",
      "Age                          [24, 13, 53, 33]\n",
      "dtype: object\n"
     ]
    }
   ],
   "source": [
    "import pandas as pd\n",
    "\n",
    "dictionary = {\"Name\": [\"John\", \"Anna\", \"Peter\", \"Linda\"],\n",
    "              \"Location\": [\"New York\", \"Paris\", \"Berlin\", \"London\"],\n",
    "              \"Age\": [24, 13, 53, 33]}\n",
    "\n",
    "Series = pd.Series(dictionary)\n",
    "print(Series)\n"
   ]
  },
  {
   "cell_type": "code",
   "execution_count": 3,
   "metadata": {},
   "outputs": [
    {
     "name": "stdout",
     "output_type": "stream",
     "text": [
      "['John', 'Anna', 'Peter', 'Linda']\n"
     ]
    }
   ],
   "source": [
    "print(Series[\"Name\"])"
   ]
  },
  {
   "cell_type": "markdown",
   "metadata": {},
   "source": [
    "### Data Frame"
   ]
  },
  {
   "cell_type": "code",
   "execution_count": 5,
   "metadata": {},
   "outputs": [
    {
     "name": "stdout",
     "output_type": "stream",
     "text": [
      "   0\n",
      "0  1\n",
      "1  2\n",
      "2  3\n",
      "3  4\n",
      "4  5\n"
     ]
    }
   ],
   "source": [
    "import pandas as pd\n",
    "\n",
    "list = [1,2,3,4,5]\n",
    "DataFrame = pd.DataFrame(list)\n",
    "\n",
    "print(DataFrame)"
   ]
  },
  {
   "cell_type": "code",
   "execution_count": null,
   "metadata": {},
   "outputs": [
    {
     "name": "stdout",
     "output_type": "stream",
     "text": [
      "    Name  Location  Age\n",
      "0   John  New York   24\n",
      "1   Anna     Paris   13\n",
      "2  Peter    Berlin   53\n",
      "3  Linda    London   33\n",
      "Linda\n"
     ]
    }
   ],
   "source": [
    "dictionary = {\"Name\": [\"John\", \"Anna\", \"Peter\", \"Linda\"],\n",
    "              \"Location\": [\"New York\", \"Paris\", \"Berlin\", \"London\"],\n",
    "              \"Age\": [24, 13, 53, 33]}\n",
    "\n",
    "DataFrame = pd.DataFrame(dictionary)\n",
    "print(DataFrame)\n"
   ]
  },
  {
   "cell_type": "code",
   "execution_count": 8,
   "metadata": {},
   "outputs": [
    {
     "name": "stdout",
     "output_type": "stream",
     "text": [
      "Linda\n"
     ]
    }
   ],
   "source": [
    "print(DataFrame[\"Name\"][3])"
   ]
  },
  {
   "cell_type": "code",
   "execution_count": 10,
   "metadata": {},
   "outputs": [
    {
     "name": "stdout",
     "output_type": "stream",
     "text": [
      "   Num Char  Float\n",
      "0    1    A    1.1\n",
      "1    2    B    1.2\n",
      "2    3    C    1.3\n",
      "3    4    D    1.4\n",
      "4    5    E    1.5\n",
      "<class 'pandas.core.frame.DataFrame'>\n"
     ]
    }
   ],
   "source": [
    "series_DataFrame_dict = {\"Num\":pd.Series([1,2,3,4,5]),\"Char\":pd.Series([\"A\",\"B\",\"C\",\"D\",\"E\"]),\n",
    "                    \"Float\":pd.Series([1.1,1.2,1.3,1.4,1.5])}\n",
    "\n",
    "series_DataFrame = pd.DataFrame(series_DataFrame_dict)\n",
    "\n",
    "print(series_DataFrame)\n",
    "print(type(series_DataFrame))"
   ]
  },
  {
   "cell_type": "code",
   "execution_count": 11,
   "metadata": {},
   "outputs": [
    {
     "data": {
      "text/plain": [
       "Potato    10\n",
       "Tomato    20\n",
       "Onion     30\n",
       "dtype: int64"
      ]
     },
     "execution_count": 11,
     "metadata": {},
     "output_type": "execute_result"
    }
   ],
   "source": [
    "val = pd.Series({\"Potato\": 10, \"Tomato\": 20, \"Onion\": 30})\n",
    "val"
   ]
  },
  {
   "cell_type": "code",
   "execution_count": 12,
   "metadata": {},
   "outputs": [
    {
     "data": {
      "text/plain": [
       "array([10, 20, 30])"
      ]
     },
     "execution_count": 12,
     "metadata": {},
     "output_type": "execute_result"
    }
   ],
   "source": [
    "val.values"
   ]
  },
  {
   "cell_type": "code",
   "execution_count": 13,
   "metadata": {},
   "outputs": [
    {
     "data": {
      "text/plain": [
       "Index(['Potato', 'Tomato', 'Onion'], dtype='object')"
      ]
     },
     "execution_count": 13,
     "metadata": {},
     "output_type": "execute_result"
    }
   ],
   "source": [
    "val.index"
   ]
  },
  {
   "cell_type": "code",
   "execution_count": null,
   "metadata": {},
   "outputs": [],
   "source": []
  }
 ],
 "metadata": {
  "kernelspec": {
   "display_name": "Python 3",
   "language": "python",
   "name": "python3"
  },
  "language_info": {
   "codemirror_mode": {
    "name": "ipython",
    "version": 3
   },
   "file_extension": ".py",
   "mimetype": "text/x-python",
   "name": "python",
   "nbconvert_exporter": "python",
   "pygments_lexer": "ipython3",
   "version": "3.12.0"
  }
 },
 "nbformat": 4,
 "nbformat_minor": 2
}
