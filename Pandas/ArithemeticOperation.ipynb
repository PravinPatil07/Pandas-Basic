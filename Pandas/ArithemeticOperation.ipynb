{
 "cells": [
  {
   "cell_type": "markdown",
   "metadata": {},
   "source": [
    "## Arithemetic Operation"
   ]
  },
  {
   "cell_type": "code",
   "execution_count": 5,
   "metadata": {},
   "outputs": [],
   "source": [
    "import pandas as pd"
   ]
  },
  {
   "cell_type": "code",
   "execution_count": 9,
   "metadata": {},
   "outputs": [
    {
     "name": "stdout",
     "output_type": "stream",
     "text": [
      "   Num1  Num2\n",
      "0     1     6\n",
      "1     2     7\n",
      "2     3     8\n",
      "3     4     9\n",
      "4     5    10\n"
     ]
    }
   ],
   "source": [
    "dictionary = {\"Num1\": [1, 2, 3, 4, 5], \"Num2\": [6, 7, 8, 9, 10]}\n",
    "\n",
    "var = pd.DataFrame(dictionary)\n",
    "\n",
    "print(var)"
   ]
  },
  {
   "cell_type": "code",
   "execution_count": 8,
   "metadata": {},
   "outputs": [
    {
     "name": "stdout",
     "output_type": "stream",
     "text": [
      "   Num1  Num2  Num3\n",
      "0     1     6     7\n",
      "1     2     7     9\n",
      "2     3     8    11\n",
      "3     4     9    13\n",
      "4     5    10    15\n"
     ]
    }
   ],
   "source": [
    "var[\"Num3\"] = var[\"Num1\"] + var[\"Num2\"]\n",
    "\n",
    "print(var)"
   ]
  },
  {
   "cell_type": "code",
   "execution_count": 10,
   "metadata": {},
   "outputs": [
    {
     "name": "stdout",
     "output_type": "stream",
     "text": [
      "   Num1  Num2  Num3\n",
      "0     1     6    -5\n",
      "1     2     7    -5\n",
      "2     3     8    -5\n",
      "3     4     9    -5\n",
      "4     5    10    -5\n"
     ]
    }
   ],
   "source": [
    "var[\"Num3\"] = var[\"Num1\"] - var[\"Num2\"]\n",
    "\n",
    "print(var)"
   ]
  },
  {
   "cell_type": "code",
   "execution_count": 11,
   "metadata": {},
   "outputs": [
    {
     "name": "stdout",
     "output_type": "stream",
     "text": [
      "   Num1  Num2  Num3\n",
      "0     1     6     6\n",
      "1     2     7    14\n",
      "2     3     8    24\n",
      "3     4     9    36\n",
      "4     5    10    50\n"
     ]
    }
   ],
   "source": [
    "var[\"Num3\"] = var[\"Num1\"] * var[\"Num2\"]\n",
    "\n",
    "print(var)"
   ]
  },
  {
   "cell_type": "code",
   "execution_count": 12,
   "metadata": {},
   "outputs": [
    {
     "name": "stdout",
     "output_type": "stream",
     "text": [
      "   Num1  Num2      Num3\n",
      "0     1     6  0.166667\n",
      "1     2     7  0.285714\n",
      "2     3     8  0.375000\n",
      "3     4     9  0.444444\n",
      "4     5    10  0.500000\n"
     ]
    }
   ],
   "source": [
    "var[\"Num3\"] = var[\"Num1\"] / var[\"Num2\"]\n",
    "\n",
    "print(var)"
   ]
  },
  {
   "cell_type": "code",
   "execution_count": 14,
   "metadata": {},
   "outputs": [
    {
     "name": "stdout",
     "output_type": "stream",
     "text": [
      "   Num1  Num2      Num3  present  present Num1\n",
      "0     1     6  0.166667    False         False\n",
      "1     2     7  0.285714    False         False\n",
      "2     3     8  0.375000     True          True\n",
      "3     4     9  0.444444     True          True\n",
      "4     5    10  0.500000     True          True\n"
     ]
    }
   ],
   "source": [
    "var[\"present Num1\"] = var[\"Num1\"] > 2\n",
    "\n",
    "print(var)"
   ]
  }
 ],
 "metadata": {
  "kernelspec": {
   "display_name": "Python 3",
   "language": "python",
   "name": "python3"
  },
  "language_info": {
   "codemirror_mode": {
    "name": "ipython",
    "version": 3
   },
   "file_extension": ".py",
   "mimetype": "text/x-python",
   "name": "python",
   "nbconvert_exporter": "python",
   "pygments_lexer": "ipython3",
   "version": "3.12.0"
  }
 },
 "nbformat": 4,
 "nbformat_minor": 2
}
